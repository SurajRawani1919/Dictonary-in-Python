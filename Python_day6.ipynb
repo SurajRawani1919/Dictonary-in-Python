{
 "cells": [
  {
   "cell_type": "code",
   "execution_count": 3,
   "id": "4e1308a3-4c6a-4254-a44c-f69c0a3e1d4c",
   "metadata": {},
   "outputs": [
    {
     "name": "stdout",
     "output_type": "stream",
     "text": [
      "{'Name': 'Suraj Singh', 'city': 'Patna', 'Age': 21, 'State': 'Bihar', 'Course': 'Data Science', 'Pin': '800001'}\n"
     ]
    }
   ],
   "source": [
    "my_dict={'Name':'Suraj Singh','city':'Patna','Age':21,'State':'Bihar','Course':'Data Science','Pin':'800001'}\n",
    "print(my_dict)"
   ]
  },
  {
   "cell_type": "code",
   "execution_count": 5,
   "id": "ce47563e-46d6-4955-8e51-6867a94d84a2",
   "metadata": {},
   "outputs": [
    {
     "name": "stdout",
     "output_type": "stream",
     "text": [
      "{'Name': 'Vikram', 'city': 'Patna', 'Age': 22, 'State': 'Bihar', 'Course': 'Data Science', 'Pin': '800001', 'Batchs': 24}\n"
     ]
    }
   ],
   "source": [
    "my_dict['Name']='Vikram'\n",
    "my_dict['Age']=22\n",
    "my_dict['Batchs']=24\n",
    "print(my_dict)"
   ]
  },
  {
   "cell_type": "code",
   "execution_count": 20,
   "id": "8d288693-eaed-41e4-9070-2807f02bae60",
   "metadata": {},
   "outputs": [
    {
     "name": "stdout",
     "output_type": "stream",
     "text": [
      "Vikram\n"
     ]
    }
   ],
   "source": [
    "#access\n",
    "print(my_dict['Name'])\n"
   ]
  },
  {
   "cell_type": "code",
   "execution_count": 23,
   "id": "bf29cf11-cd8c-4b51-a117-914541751680",
   "metadata": {},
   "outputs": [
    {
     "name": "stdout",
     "output_type": "stream",
     "text": [
      "dict_keys(['Name', 'city', 'Age', 'State', 'Course', 'Pin', 'Batchs'])\n",
      "dict_values(['Vikram', 'Patna', 22, 'Bihar', 'Data Science', '800001', 24])\n",
      "dict_items([('Name', 'Vikram'), ('city', 'Patna'), ('Age', 22), ('State', 'Bihar'), ('Course', 'Data Science'), ('Pin', '800001'), ('Batchs', 24)])\n"
     ]
    }
   ],
   "source": [
    "#built in methods\n",
    "print(my_dict.keys())\n",
    "print(my_dict.values())\n"
   ]
  },
  {
   "cell_type": "code",
   "execution_count": 24,
   "id": "41925171-53f7-45ef-8112-bdfa71dd88f1",
   "metadata": {},
   "outputs": [
    {
     "name": "stdout",
     "output_type": "stream",
     "text": [
      "dict_items([('Name', 'Vikram'), ('city', 'Patna'), ('Age', 22), ('State', 'Bihar'), ('Course', 'Data Science'), ('Pin', '800001'), ('Batchs', 24)])\n"
     ]
    }
   ],
   "source": [
    "print(my_dict.items())"
   ]
  },
  {
   "cell_type": "code",
   "execution_count": 27,
   "id": "735af7a2-a4e6-46c6-a06e-5f6fd1d0b70c",
   "metadata": {},
   "outputs": [
    {
     "name": "stdout",
     "output_type": "stream",
     "text": [
      "None\n",
      "{'Name': 'Vikram', 'city': 'Patna', 'Age': 22, 'State': 'Bihar', 'Course': 'Data Science', 'Pin': '800001', 'Batchs': 24, 'area': 'Near borig road', 'locality': 'Krishna Nagar'}\n"
     ]
    }
   ],
   "source": [
    "#update : add multiple key value pairs/another dictionar in the existing dictionary \n",
    "\n",
    "print(my_dict.update({'area':'Near borig road','locality':'Krishna Nagar'}))\n",
    "print(my_dict)\n"
   ]
  },
  {
   "cell_type": "code",
   "execution_count": 30,
   "id": "18d984f0-32bc-42da-a96b-3ebf4852cfac",
   "metadata": {},
   "outputs": [
    {
     "name": "stdout",
     "output_type": "stream",
     "text": [
      "{}\n"
     ]
    }
   ],
   "source": [
    "#clear method : will delete the elements of the dictonary but the structure of the dictionary will stay in its place\n",
    "my_dict.clear()\n",
    "print(my_dict)"
   ]
  },
  {
   "cell_type": "code",
   "execution_count": null,
   "id": "51cbcb2d-d0c9-4323-be1e-731edf743696",
   "metadata": {},
   "outputs": [],
   "source": [
    "my_dict={'Name':'Suraj Singh','city':'Patna','Age':21,'State':'Bihar','Course':'Data Science','Pin':'800001'}\n",
    "print(my_dict)"
   ]
  },
  {
   "cell_type": "code",
   "execution_count": 34,
   "id": "23a89e2e-a7b4-4da8-a4f2-a529bd65ea37",
   "metadata": {},
   "outputs": [
    {
     "name": "stdout",
     "output_type": "stream",
     "text": [
      "{'Name': 'Suraj Singh', 'city': 'Patna', 'Age': 21, 'State': 'Bihar', 'Course': 'Data Science'}\n"
     ]
    }
   ],
   "source": [
    "#delet key ward\n",
    "del my_dict['Pin']\n",
    "print(my_dict)"
   ]
  },
  {
   "cell_type": "code",
   "execution_count": 35,
   "id": "618644ca-0df4-49a0-928f-8d1275554997",
   "metadata": {},
   "outputs": [
    {
     "name": "stdout",
     "output_type": "stream",
     "text": [
      "{'city': 'Patna', 'Age': 21, 'State': 'Bihar', 'Course': 'Data Science'}\n"
     ]
    }
   ],
   "source": [
    "#pop method\n",
    "my_dict.pop('Name')\n",
    "print(my_dict)"
   ]
  },
  {
   "cell_type": "code",
   "execution_count": 37,
   "id": "71c0a983-bcdf-4167-9251-51be8b2ff220",
   "metadata": {},
   "outputs": [
    {
     "name": "stdout",
     "output_type": "stream",
     "text": [
      "{'Age': 21, 'State': 'Bihar', 'Course': 'Data Science'}\n"
     ]
    }
   ],
   "source": [
    "a=my_dict.pop('city')\n",
    "print(my_dict)"
   ]
  },
  {
   "cell_type": "code",
   "execution_count": 38,
   "id": "20d92d43-a414-45fe-9fba-781a68c9ed71",
   "metadata": {},
   "outputs": [
    {
     "name": "stdout",
     "output_type": "stream",
     "text": [
      "Patna\n"
     ]
    }
   ],
   "source": [
    "print(a)"
   ]
  },
  {
   "cell_type": "code",
   "execution_count": 39,
   "id": "859d0b41-c3da-4a91-9d2e-30621f1d63b8",
   "metadata": {},
   "outputs": [
    {
     "name": "stdout",
     "output_type": "stream",
     "text": [
      "Age 21\n",
      "State Bihar\n",
      "Course Data Science\n"
     ]
    }
   ],
   "source": [
    "#using for loop to access key and values \n",
    "for key,values in my_dict.items():\n",
    "    print(key,values)"
   ]
  },
  {
   "cell_type": "code",
   "execution_count": 41,
   "id": "fae58716-206d-4521-bbb1-341d2ef872db",
   "metadata": {},
   "outputs": [
    {
     "name": "stdout",
     "output_type": "stream",
     "text": [
      "Age 21 State Bihar Course Data Science "
     ]
    }
   ],
   "source": [
    "for key,values in my_dict.items():\n",
    "    print(key,values,end=\" \")"
   ]
  },
  {
   "cell_type": "code",
   "execution_count": 45,
   "id": "2d793cec-aa89-440d-85f3-eaf5e8f94d17",
   "metadata": {},
   "outputs": [
    {
     "ename": "NameError",
     "evalue": "name 'true' is not defined",
     "output_type": "error",
     "traceback": [
      "\u001b[1;31m---------------------------------------------------------------------------\u001b[0m",
      "\u001b[1;31mNameError\u001b[0m                                 Traceback (most recent call last)",
      "Cell \u001b[1;32mIn[45], line 3\u001b[0m\n\u001b[0;32m      1\u001b[0m \u001b[38;5;66;03m#boolean data types \u001b[39;00m\n\u001b[0;32m      2\u001b[0m \u001b[38;5;66;03m#ture and false \u001b[39;00m\n\u001b[1;32m----> 3\u001b[0m is_pass\u001b[38;5;241m=\u001b[39m\u001b[43mtrue\u001b[49m \n\u001b[0;32m      4\u001b[0m can_vote\u001b[38;5;241m=\u001b[39mfalse\n",
      "\u001b[1;31mNameError\u001b[0m: name 'true' is not defined"
     ]
    }
   ],
   "source": [
    "#boolean data types \n",
    "#ture and false \n",
    "is_pass=true \n",
    "can_vote=false\n"
   ]
  },
  {
   "cell_type": "code",
   "execution_count": null,
   "id": "95bc7417-6cbf-4181-a694-68e4e49aacc5",
   "metadata": {},
   "outputs": [],
   "source": [
    "#none datatypes \n",
    "marks=none "
   ]
  }
 ],
 "metadata": {
  "kernelspec": {
   "display_name": "Python 3 (ipykernel)",
   "language": "python",
   "name": "python3"
  },
  "language_info": {
   "codemirror_mode": {
    "name": "ipython",
    "version": 3
   },
   "file_extension": ".py",
   "mimetype": "text/x-python",
   "name": "python",
   "nbconvert_exporter": "python",
   "pygments_lexer": "ipython3",
   "version": "3.10.11"
  }
 },
 "nbformat": 4,
 "nbformat_minor": 5
}
